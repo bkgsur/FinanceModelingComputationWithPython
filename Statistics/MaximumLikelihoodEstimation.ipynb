{
  "nbformat": 4,
  "nbformat_minor": 0,
  "metadata": {
    "colab": {
      "name": "MaximumLikelihoodEstimation.ipynb",
      "provenance": [],
      "authorship_tag": "ABX9TyM8xf6uuCkNevEZgrRbKRIe",
      "include_colab_link": true
    },
    "kernelspec": {
      "name": "python3",
      "display_name": "Python 3"
    },
    "language_info": {
      "name": "python"
    }
  },
  "cells": [
    {
      "cell_type": "markdown",
      "metadata": {
        "id": "view-in-github",
        "colab_type": "text"
      },
      "source": [
        "<a href=\"https://colab.research.google.com/github/bkgsur/StatisticsWithPython/blob/main/MaximumLikelihoodEstimation.ipynb\" target=\"_parent\"><img src=\"https://colab.research.google.com/assets/colab-badge.svg\" alt=\"Open In Colab\"/></a>"
      ]
    },
    {
      "cell_type": "markdown",
      "metadata": {
        "id": "bBTU3F4gcmCM"
      },
      "source": [
        "**Estimation Using Maximum Likelihood (MLE)** is a method of estimating the parameters of an assumed probability distribution, given some observed data. This is achieved by maximizing a likelihood function so that, under the assumed statistical model, the observed data is most probable. The point in the parameter space that maximizes the likelihood function is called the maximum likelihood estimate. The logic of maximum likelihood is both intuitive and flexible, and as such the method has become a dominant means of statistical inference. \n",
        "https://en.wikipedia.org/wiki/Maximum_likelihood_estimation"
      ]
    },
    {
      "cell_type": "code",
      "metadata": {
        "id": "mXxSN738x7S9"
      },
      "source": [
        "import numpy as np\n",
        "import scipy.stats\n",
        "import sympy\n",
        "import math"
      ],
      "execution_count": 1,
      "outputs": []
    },
    {
      "cell_type": "code",
      "metadata": {
        "id": "9ZuKMyTbV2Uy"
      },
      "source": [
        "# sample count\n",
        "N = 1000\n",
        "x = sympy.symbols('x', positive= True)"
      ],
      "execution_count": 2,
      "outputs": []
    },
    {
      "cell_type": "code",
      "metadata": {
        "id": "AzXYvs-cUVeO"
      },
      "source": [
        "def parameterEstimate(p_dist, df, param_true,v):\n",
        "  print(\"True parameter value:\", param_true)\n",
        "  # Experiment and samples\n",
        "  samples = p_dist.rvs(N)\n",
        "  #likelihood function \n",
        "  L = np.product([df.subs(x,sample) for sample in samples])\n",
        "  print(\"Likelihood Function:\", L)\n",
        "  # solve for Likelihood \n",
        "  #Note: log of the likelihood fincton makes the maximization problem tractable.\n",
        "\n",
        "  Log_L = sympy.expand_log(sympy.log(L))\n",
        "  param_est, = sympy.solve(sympy.diff(Log_L, v),v)\n",
        "\n",
        "  print(\"Estimated parameter value:\", float(param_est))"
      ],
      "execution_count": 3,
      "outputs": []
    },
    {
      "cell_type": "code",
      "metadata": {
        "colab": {
          "base_uri": "https://localhost:8080/"
        },
        "id": "gTcgRSfC3hRB",
        "outputId": "5ad34d3c-4b31-432a-c996-063b624c256f"
      },
      "source": [
        "print(\"Bernoulli Distribution\")\n",
        "p_true = 0.7\n",
        "p_dist = scipy.stats.bernoulli(p_true)\n",
        "# variables using sympy\n",
        "p = sympy.symbols('p', positive= True)\n",
        "#probability function\n",
        "df = p**x * (1-p)**(1-x)\n",
        "parameterEstimate(p_dist, df, p_true,p)"
      ],
      "execution_count": 4,
      "outputs": [
        {
          "output_type": "stream",
          "name": "stdout",
          "text": [
            "Bernoulli Distribution\n",
            "True parameter value: 0.7\n",
            "Likelihood Function: p**741*(1 - p)**259\n",
            "Estimated parameter value: 0.741\n"
          ]
        }
      ]
    },
    {
      "cell_type": "code",
      "metadata": {
        "colab": {
          "base_uri": "https://localhost:8080/"
        },
        "id": "YHROdoAyYeSn",
        "outputId": "2395c99d-f98a-40aa-96f8-e774d6d1b063"
      },
      "source": [
        "print(\"Exponential Distribution\")\n",
        "p_dist = scipy.stats.expon()\n",
        "p_true = p_dist.mean()\n",
        "# variables using sympy\n",
        "t = sympy.symbols('t', positive= True)\n",
        "\n",
        "#probability function\n",
        "df = (1/t) *  math.e ** (-x/t)\n",
        "\n",
        "parameterEstimate(p_dist, df, p_true,t)\n"
      ],
      "execution_count": 5,
      "outputs": [
        {
          "output_type": "stream",
          "name": "stdout",
          "text": [
            "Exponential Distribution\n",
            "True parameter value: 1.0\n",
            "Likelihood Function: 2.71828182845905**(-1022.71172198597/t)/t**1000\n",
            "Estimated parameter value: 1.02271172198597\n"
          ]
        }
      ]
    },
    {
      "cell_type": "code",
      "metadata": {
        "colab": {
          "base_uri": "https://localhost:8080/"
        },
        "id": "_-ON86I1zYWE",
        "outputId": "54280ed8-1438-403c-d9b4-2d14d8042ec5"
      },
      "source": [
        "print(\"Normal Distribution\")\n",
        "mu_true = 2\n",
        "sigma_true=0\n",
        "p_dist = scipy.stats.norm(mu_true,sigma_true)\n",
        "# variables using sympy\n",
        "mu, sigma = sympy.symbols('mu, sigma', positive= True)\n",
        "\n",
        "#probability function\n",
        "df =  ((2 * math.pi* sigma*sigma) ** (-0.5)) * (math.e ** (-0.5 * (x-mu)* (x-mu)/(sigma * sigma)))\n",
        "parameterEstimate(p_dist, df, mu_true,mu)\n"
      ],
      "execution_count": 6,
      "outputs": [
        {
          "output_type": "stream",
          "name": "stdout",
          "text": [
            "Normal Distribution\n",
            "True parameter value: 2\n",
            "Likelihood Function: 8.12953716728196e-400*2.71828182845905**(1000*(2.0 - mu)*(0.5*mu - 1.0)/sigma**2)*sigma**(-1000.0)\n",
            "Estimated parameter value: 2.0\n"
          ]
        }
      ]
    },
    {
      "cell_type": "code",
      "metadata": {
        "colab": {
          "base_uri": "https://localhost:8080/"
        },
        "id": "qsyBZFkkaqqV",
        "outputId": "fffb9abd-f7b9-43b4-efae-87204b34cb89"
      },
      "source": [
        "print(\"Poisson Distribution\")\n",
        "k_true= 2\n",
        "p_dist = scipy.stats.poisson(k_true)\n",
        "k = sympy.symbols('k', positive= True)\n",
        "df = k**x*sympy.exp(-k)/sympy.factorial(x)\n",
        "parameterEstimate(p_dist, df, k_true,k)\n"
      ],
      "execution_count": 7,
      "outputs": [
        {
          "output_type": "stream",
          "name": "stdout",
          "text": [
            "Poisson Distribution\n",
            "True parameter value: 2\n",
            "Likelihood Function: k**1997*exp(-1000*k)/142220199860881056663191396650367732478138060843772563671397683466569187541722759507915845631107969632545273741424688952787500633027625617630113037289315761090010517971364415451864150528618267221053183525752106609291883404681346679086957134357390537918919070304662927052260585891725831988996973817758666931146942020746209214900436818491150673157476389615461350353676686715592963879195841207050750154875803762161535927975936000000000000000000000000000000000000000000000\n",
            "Estimated parameter value: 1.997\n"
          ]
        }
      ]
    }
  ]
}