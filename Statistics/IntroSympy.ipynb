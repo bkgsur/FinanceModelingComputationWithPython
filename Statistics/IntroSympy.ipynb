{
  "nbformat": 4,
  "nbformat_minor": 0,
  "metadata": {
    "colab": {
      "name": "IntroSympy.ipynb",
      "provenance": [],
      "authorship_tag": "ABX9TyO8DaNMm5PqNNsdp0y9ZABh",
      "include_colab_link": true
    },
    "kernelspec": {
      "name": "python3",
      "display_name": "Python 3"
    },
    "language_info": {
      "name": "python"
    }
  },
  "cells": [
    {
      "cell_type": "markdown",
      "metadata": {
        "id": "view-in-github",
        "colab_type": "text"
      },
      "source": [
        "<a href=\"https://colab.research.google.com/github/bkgsur/StatisticsWithPython/blob/main/IntroSympy.ipynb\" target=\"_parent\"><img src=\"https://colab.research.google.com/assets/colab-badge.svg\" alt=\"Open In Colab\"/></a>"
      ]
    },
    {
      "cell_type": "code",
      "metadata": {
        "id": "jnCOQplGYZ3_"
      },
      "source": [
        "from sympy import stats"
      ],
      "execution_count": 1,
      "outputs": []
    },
    {
      "cell_type": "code",
      "metadata": {
        "colab": {
          "base_uri": "https://localhost:8080/",
          "height": 64
        },
        "id": "CBiAHR1sYvu-",
        "outputId": "4e5726ae-6c75-4f4e-a71d-cd3932a2f71f"
      },
      "source": [
        "X = stats.Normal('x',0,10)\n",
        "from sympy.abc import x\n",
        "#probability density function\n",
        "stats.density(X)(x)"
      ],
      "execution_count": 5,
      "outputs": [
        {
          "output_type": "execute_result",
          "data": {
            "text/latex": "$\\displaystyle \\frac{\\sqrt{2} e^{- \\frac{x^{2}}{200}}}{20 \\sqrt{\\pi}}$",
            "text/plain": [
              "sqrt(2)*exp(-x**2/200)/(20*sqrt(pi))"
            ]
          },
          "metadata": {},
          "execution_count": 5
        }
      ]
    },
    {
      "cell_type": "code",
      "metadata": {
        "colab": {
          "base_uri": "https://localhost:8080/",
          "height": 51
        },
        "id": "FTDwRRB1aZ4x",
        "outputId": "fb320655-d04e-4d72-c2c6-78b2c189929f"
      },
      "source": [
        "# evaluate cdf\n",
        "stats.cdf(X)(0)"
      ],
      "execution_count": 6,
      "outputs": [
        {
          "output_type": "execute_result",
          "data": {
            "text/latex": "$\\displaystyle \\frac{1}{2}$",
            "text/plain": [
              "1/2"
            ]
          },
          "metadata": {},
          "execution_count": 6
        }
      ]
    },
    {
      "cell_type": "code",
      "metadata": {
        "colab": {
          "base_uri": "https://localhost:8080/",
          "height": 37
        },
        "id": "ry4YxBeabS65",
        "outputId": "7152d925-e419-4470-fbce-71bf8dd558fa"
      },
      "source": [
        "# evaluate probability\n",
        "stats.P(X>0).evalf()"
      ],
      "execution_count": 9,
      "outputs": [
        {
          "output_type": "execute_result",
          "data": {
            "text/latex": "$\\displaystyle 0.5$",
            "text/plain": [
              "0.500000000000000"
            ]
          },
          "metadata": {},
          "execution_count": 9
        }
      ]
    },
    {
      "cell_type": "code",
      "metadata": {
        "colab": {
          "base_uri": "https://localhost:8080/",
          "height": 37
        },
        "id": "2hthcWbBioeM",
        "outputId": "39276b21-d3bf-42f9-d0de-fcd1f01e29b5"
      },
      "source": [
        "stats.E(X)\n"
      ],
      "execution_count": 12,
      "outputs": [
        {
          "output_type": "execute_result",
          "data": {
            "text/latex": "$\\displaystyle 0$",
            "text/plain": [
              "0"
            ]
          },
          "metadata": {},
          "execution_count": 12
        }
      ]
    }
  ]
}