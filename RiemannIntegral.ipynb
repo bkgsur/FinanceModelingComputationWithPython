{
  "nbformat": 4,
  "nbformat_minor": 0,
  "metadata": {
    "colab": {
      "name": "RiemannIntegral.ipynb",
      "provenance": [],
      "authorship_tag": "ABX9TyO4+6ORevSJeQH0VeIV6TvG",
      "include_colab_link": true
    },
    "kernelspec": {
      "name": "python3",
      "display_name": "Python 3"
    },
    "language_info": {
      "name": "python"
    }
  },
  "cells": [
    {
      "cell_type": "markdown",
      "metadata": {
        "id": "view-in-github",
        "colab_type": "text"
      },
      "source": [
        "<a href=\"https://colab.research.google.com/github/bkgsur/FinanceModelingComputation/blob/main/RiemannIntegral.ipynb\" target=\"_parent\"><img src=\"https://colab.research.google.com/assets/colab-badge.svg\" alt=\"Open In Colab\"/></a>"
      ]
    },
    {
      "cell_type": "code",
      "metadata": {
        "colab": {
          "base_uri": "https://localhost:8080/"
        },
        "id": "kaoYRWek3HRL",
        "outputId": "d3674498-a479-4016-d496-0dd6e1508d60"
      },
      "source": [
        "import numpy as np\n",
        "\n",
        "n = 100\n",
        "\n",
        "def riemann_integral(f, a, b):\n",
        "    w = (b - a)/n\n",
        "    r_left = sum([f(a + i*w) * w for i in range(1, n)])\n",
        "    r_right = sum([f(a + (i+1)*w) * w for i in range(1, n)])\n",
        "    return np.array([r_left , r_right]).mean()\n",
        "\n",
        "\n",
        "def run(r, f, a,b):\n",
        "  print(r + \": \", riemann_integral(f, a, b))\n",
        "\n",
        "print (\"Using Reimann Integral\")\n",
        "run(\"Value of Pi\",lambda x: 4.0/(1 + x**2), 0,1)\n",
        "run (\"Area of circle quadrant\", lambda x: np.square(1)*((np.cos(2*x)+1)/2),0, np.pi/2)\n",
        "\n",
        "run (\"fun eval\", lambda x:2*x*x ,0, 2)"
      ],
      "execution_count": 1,
      "outputs": [
        {
          "output_type": "stream",
          "name": "stdout",
          "text": [
            "Using Reimann Integral\n",
            "Value of Pi:  3.1015779867231466\n",
            "Area of circle quadrant:  0.7696921378624116\n",
            "fun eval:  5.333592000000003\n"
          ]
        }
      ]
    }
  ]
}