{
  "nbformat": 4,
  "nbformat_minor": 0,
  "metadata": {
    "colab": {
      "name": "ImbalancedClassification.ipynb",
      "provenance": [],
      "collapsed_sections": [],
      "authorship_tag": "ABX9TyP9ohsj96i2MGbzViJ9ipMM",
      "include_colab_link": true
    },
    "kernelspec": {
      "name": "python3",
      "display_name": "Python 3"
    },
    "language_info": {
      "name": "python"
    }
  },
  "cells": [
    {
      "cell_type": "markdown",
      "metadata": {
        "id": "view-in-github",
        "colab_type": "text"
      },
      "source": [
        "<a href=\"https://colab.research.google.com/github/bkgsur/Economics-and-Finance-in-TensorFlow-2/blob/main/ImbalancedClassification.ipynb\" target=\"_parent\"><img src=\"https://colab.research.google.com/assets/colab-badge.svg\" alt=\"Open In Colab\"/></a>"
      ]
    },
    {
      "cell_type": "code",
      "source": [
        "import tensorflow as tf\n",
        "import pandas as pd\n",
        "import matplotlib as mpl\n",
        "import matplotlib.pyplot as plt\n",
        "import numpy as np"
      ],
      "metadata": {
        "id": "o4a5o4pcIJyj"
      },
      "execution_count": 21,
      "outputs": []
    },
    {
      "cell_type": "code",
      "source": [
        "# Import credit card fraud data from Kaggle\n",
        "# High percentage of data is not fraud\n",
        "raw_data = pd.read_csv(\"https://storage.googleapis.com/download.tensorflow.org/data/creditcard.csv\")"
      ],
      "metadata": {
        "id": "t52da0VJUBS7"
      },
      "execution_count": 37,
      "outputs": []
    },
    {
      "cell_type": "code",
      "source": [
        "# Explore raw data\n",
        "print(\"Head:\", raw_data.head())\n",
        "print(\"Columns:\",raw_data.columns)\n",
        "print(\"Describe Data:\", raw_data.describe())\n",
        "neg, pos = np.bincount(raw_data['Class'])\n",
        "total = neg + pos\n",
        "posFraction = (pos/total) * 100;\n",
        "print(\"Propotion of fraud cases:\", posFraction)\n"
      ],
      "metadata": {
        "id": "nU74c9yWdCkT"
      },
      "execution_count": null,
      "outputs": []
    },
    {
      "cell_type": "code",
      "source": [
        "# Preprocess data \n",
        "clean_data = raw_data.copy()\n",
        "\n",
        "# Remove column \"Time\"\n",
        "clean_data.pop(\"Time\")\n",
        "\n",
        "# log of \"Amount\" field as it has a wide range\n",
        "eps = 0.001 # to account for zero amount values \n",
        "clean_data['Log Ammount'] = np.log(clean_data.pop('Amount')+eps)"
      ],
      "metadata": {
        "id": "d8-lBn2tjcU4"
      },
      "execution_count": 42,
      "outputs": []
    }
  ]
}